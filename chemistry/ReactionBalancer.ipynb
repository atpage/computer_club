{
 "cells": [
  {
   "cell_type": "markdown",
   "metadata": {},
   "source": [
    "# Find the coefficients for an unbalanced chemical reaction"
   ]
  },
  {
   "cell_type": "code",
   "execution_count": 1,
   "metadata": {},
   "outputs": [],
   "source": [
    "from scipy.linalg import solve\n",
    "import string\n",
    "import numpy as np"
   ]
  },
  {
   "cell_type": "code",
   "execution_count": 35,
   "metadata": {},
   "outputs": [],
   "source": [
    "def get_element_counts(compound_str):\n",
    "    \"\"\"Given a compound_str like:\n",
    "         \"H2O\"\n",
    "       Return a dict with the count of each component element, e.g.:\n",
    "         {\"H\":2,\"O\":1}\n",
    "       Case matters!\n",
    "    \"\"\"\n",
    "    if '(' in compound_str or ')' in compound_str:\n",
    "        raise NotImplementedError(\"parentheses in a compound are not yet supported\")  # TODO\n",
    "    # break compound into substrings for each element, e.g. \"H2O\" -> [\"H2\", \"O\"]:\n",
    "    elements = []\n",
    "    element_start = 0\n",
    "    for i, character in enumerate(compound_str):\n",
    "        if i != 0 and character.isupper():\n",
    "            elements.append(compound_str[element_start:i])\n",
    "            element_start = i\n",
    "    elements.append(compound_str[element_start:])\n",
    "    # count up the number of atoms of each element:\n",
    "    counts = {}\n",
    "    for element in elements:\n",
    "        e = element.rstrip(string.digits)\n",
    "        count = element[len(e):]\n",
    "        count = int(count) if len(count)>0 else 1\n",
    "        if e in counts:  # e.g. if compound was \"HC2H2O2\", elements will contain H twice\n",
    "            counts[e] += count\n",
    "        else:\n",
    "            counts[e] = count\n",
    "    return counts"
   ]
  },
  {
   "cell_type": "code",
   "execution_count": 36,
   "metadata": {},
   "outputs": [],
   "source": [
    "def balance_rxn(reaction_str):\n",
    "    \"\"\"Given a reaction_str like:\n",
    "         \"H2 + O2 -> H2O\"\n",
    "       Print the balanced reaction, e.g.:\n",
    "         \"2 H2 + 1 O2 -> 2 H2O\"\n",
    "       Case matters!\n",
    "    \"\"\"\n",
    "    # Split up the reaction into individual terms:\n",
    "    reactants, products = reaction_str.split(\"->\")\n",
    "    reactants = reactants.split(\"+\")\n",
    "    products  = products.split(\"+\")\n",
    "    reactants = [r.strip() for r in reactants]  # e.g. ['H2', 'O2']\n",
    "    products  = [p.strip() for p in products]  # e.g. ['H2O']\n",
    "    # Figure out what elements are involved in the reaction:\n",
    "    elements = []\n",
    "    for p in products:\n",
    "        elements += list(get_element_counts(p).keys())\n",
    "    for r in reactants:\n",
    "        elements += list(get_element_counts(r).keys())\n",
    "    elements = list(set(elements))\n",
    "    # Set up the equation (matrix) to solve (Ax=b):\n",
    "    num_coeffs = len(reactants) + len(products)\n",
    "    num_elements = len(elements)  # this is also num_equations\n",
    "    if num_elements < num_coeffs-1:\n",
    "        raise ValueError(\"Unable to solve the given equation.\")\n",
    "    # if num_elements > num_coeffs:\n",
    "    #     raise NotImplementedError  # remove linearly dependent row(s)\n",
    "    A = np.zeros((num_elements,num_coeffs))\n",
    "    b = np.zeros((num_elements,1))\n",
    "    for eltidx, elt in enumerate(elements):\n",
    "        for ridx, r in enumerate(reactants):\n",
    "            A[eltidx,ridx] = get_element_counts(r).get(elt,0)\n",
    "        for pidx, p in enumerate(products):\n",
    "            A[eltidx,-len(products)+pidx] = -get_element_counts(p).get(elt,0)\n",
    "    if num_elements < num_coeffs:\n",
    "        # free variable, add a row to matrix with an arbitrary \n",
    "        # value (1) for one of the unknown coefficients\n",
    "        A = np.concatenate([A,np.zeros((1,num_coeffs))])\n",
    "        A[-1,0] = 1\n",
    "        b = np.append(b,[1])\n",
    "    # Solve it:\n",
    "    coeffs = solve(a=A, b=b)\n",
    "    if min(coeffs) < 1:\n",
    "        # TODO: properly make all coeffs integers\n",
    "        coeffs /= min(coeffs)\n",
    "    solved_reactants = [\"%0.2f %s\" % (coeffs[ri],                r) for ri,r in enumerate(reactants)]  # TODO int not float\n",
    "    solved_products  = [\"%0.2f %s\" % (coeffs[pi+len(reactants)], p) for pi,p in enumerate(products)]   # TODO int not float\n",
    "    # Display the answer:\n",
    "    print(\" + \".join(solved_reactants) + \" -> \" + \" + \".join(solved_products))"
   ]
  },
  {
   "cell_type": "code",
   "execution_count": 44,
   "metadata": {},
   "outputs": [],
   "source": [
    "# TODO: speed up balance_rxn(), probably make it return a nice structure, maybe split everything up more too\n",
    "# TODO?: make this a package, including tests"
   ]
  },
  {
   "cell_type": "markdown",
   "metadata": {},
   "source": [
    "# Test it"
   ]
  },
  {
   "cell_type": "code",
   "execution_count": 38,
   "metadata": {},
   "outputs": [
    {
     "name": "stdout",
     "output_type": "stream",
     "text": [
      "2.00 H2 + 1.00 O2 -> 2.00 H2O\n"
     ]
    }
   ],
   "source": [
    "balance_rxn(\"H2 + O2 -> H2O\")"
   ]
  },
  {
   "cell_type": "code",
   "execution_count": 39,
   "metadata": {},
   "outputs": [
    {
     "name": "stdout",
     "output_type": "stream",
     "text": [
      "1.00 C4H10 + 6.50 O2 -> 4.00 CO2 + 5.00 H2O\n"
     ]
    }
   ],
   "source": [
    "balance_rxn(\"C4H10 + O2 -> CO2 + H2O\")"
   ]
  },
  {
   "cell_type": "code",
   "execution_count": 45,
   "metadata": {},
   "outputs": [
    {
     "name": "stdout",
     "output_type": "stream",
     "text": [
      "1.50 Cu + 4.00 HNO3 -> 1.50 CuNO3NO3 + 1.00 NO + 2.00 H2O\n"
     ]
    }
   ],
   "source": [
    "#balance_rxn(\"Cu + HNO3 -> Cu(NO3)2 + NO + H2O\")\n",
    "balance_rxn(\"Cu + HNO3 -> CuNO3NO3 + NO + H2O\")"
   ]
  },
  {
   "cell_type": "code",
   "execution_count": null,
   "metadata": {},
   "outputs": [],
   "source": []
  }
 ],
 "metadata": {
  "kernelspec": {
   "display_name": "Python 3",
   "language": "python",
   "name": "python3"
  },
  "language_info": {
   "codemirror_mode": {
    "name": "ipython",
    "version": 3
   },
   "file_extension": ".py",
   "mimetype": "text/x-python",
   "name": "python",
   "nbconvert_exporter": "python",
   "pygments_lexer": "ipython3",
   "version": "3.5.2"
  }
 },
 "nbformat": 4,
 "nbformat_minor": 2
}
