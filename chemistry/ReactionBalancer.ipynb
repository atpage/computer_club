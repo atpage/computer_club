{
 "cells": [
  {
   "cell_type": "markdown",
   "metadata": {},
   "source": [
    "# Find the coefficients for an unbalanced chemical reaction"
   ]
  },
  {
   "cell_type": "markdown",
   "metadata": {},
   "source": [
    "Usage example:\n",
    "\n",
    "    balance_rxn(\"Cu + HNO3 -> Cu(NO3)2 + NO + H2O\")\n",
    "    \n",
    "Note that case matters (each element starts with an upper case letter, and any following letters are lower case)."
   ]
  },
  {
   "cell_type": "code",
   "execution_count": 1,
   "metadata": {},
   "outputs": [],
   "source": [
    "import numpy as np\n",
    "from scipy.linalg import solve, lu\n",
    "import string\n",
    "import re\n",
    "from fractions import Fraction\n",
    "from math import gcd\n",
    "from functools import reduce"
   ]
  },
  {
   "cell_type": "code",
   "execution_count": 2,
   "metadata": {},
   "outputs": [],
   "source": [
    "def flatten_formula(compound_str):\n",
    "    \"\"\"Given a compound_str like:\n",
    "         \"Cu(NO3)2\"\n",
    "       Remove the parentheses, returning e.g.:\n",
    "         \"CuNO3NO3\"\n",
    "       This should make it easier to count up the occurrences of each element in compound_str.\n",
    "    \"\"\"\n",
    "    p = re.compile(r\"\\(\\w+\\)\\d+\")\n",
    "    while True:\n",
    "        m = p.search(compound_str)\n",
    "        if not m:\n",
    "            break\n",
    "        base, repeats = m.group().split(')')\n",
    "        expanded = base.replace('(','') * int(repeats)\n",
    "        compound_str = compound_str.replace(m.group(),expanded)\n",
    "    return compound_str"
   ]
  },
  {
   "cell_type": "code",
   "execution_count": 3,
   "metadata": {},
   "outputs": [],
   "source": [
    "def get_element_counts(compound_str):\n",
    "    \"\"\"Given a compound_str like:\n",
    "         \"H2O\"\n",
    "       Return a dict with the count of each component element, e.g.:\n",
    "         {\"H\":2,\"O\":1}\n",
    "    \"\"\"\n",
    "    # expand parenthetical parts:\n",
    "    compound_str = flatten_formula(compound_str)\n",
    "    # break compound into substrings for each element, e.g. \"H2O\" -> [\"H2\", \"O\"]:\n",
    "    elements = re.findall(r\"[A-Z][a-z]*[0-9]*\", compound_str)\n",
    "    # count up the number of atoms of each element:\n",
    "    counts = {}\n",
    "    for element in elements:\n",
    "        e = element.rstrip(string.digits)\n",
    "        count = element[len(e):]\n",
    "        count = int(count) if len(count)>0 else 1\n",
    "        if e in counts:  # e.g. if compound was \"HC2H2O2\", elements will contain H twice\n",
    "            counts[e] += count\n",
    "        else:\n",
    "            counts[e] = count\n",
    "    return counts"
   ]
  },
  {
   "cell_type": "code",
   "execution_count": 4,
   "metadata": {},
   "outputs": [],
   "source": [
    "def get_react_prod_from_rxn(reaction_str):\n",
    "    \"\"\"Given a reaction_str like:\n",
    "         \"H2 + O2 -> H2O\"\n",
    "       Return the reactants and products as separate lists, e.g.:\n",
    "         ['H2', 'O2'], ['H2O']\n",
    "    \"\"\"\n",
    "    reactants, products = reaction_str.split(\"->\")\n",
    "    reactants = [c.strip() for c in reactants.split(\"+\")]\n",
    "    products  = [c.strip() for c in products.split(\"+\")]\n",
    "    return reactants, products"
   ]
  },
  {
   "cell_type": "code",
   "execution_count": 5,
   "metadata": {},
   "outputs": [],
   "source": [
    "def scale_coefficients(coeffs):\n",
    "    \"\"\"Take a numpy array of coefficients (which may be floats, less than 1, etc.), and\n",
    "    return a corresponding array of (minimal) integers.\"\"\"\n",
    "    coeffs = coeffs.copy()\n",
    "    for c in coeffs:\n",
    "        coeffs *= Fraction(c).limit_denominator().denominator\n",
    "    coeffs = np.rint(coeffs).astype(int)\n",
    "    coeffs //= reduce(gcd, coeffs)\n",
    "    return coeffs"
   ]
  },
  {
   "cell_type": "code",
   "execution_count": 6,
   "metadata": {},
   "outputs": [],
   "source": [
    "def find_coefficients(reaction_str):\n",
    "    \"\"\"Given a reaction_str like:\n",
    "         \"H2 + O2 -> H2O\"\n",
    "       Return the balanced coefficients for the terms, e.g.:\n",
    "         [2, 1, 2]\n",
    "    \"\"\"\n",
    "    # Parse out the individual terms of the reaction:\n",
    "    reactants, products = get_react_prod_from_rxn(reaction_str)\n",
    "    compounds = reactants + products  # e.g. [\"H2\", \"O2\", \"H2O\"]\n",
    "    # Identify all elements involved:\n",
    "    all_elements = []\n",
    "    for c in compounds:\n",
    "        all_elements += re.findall(r\"[A-Z][a-z]*\", c)\n",
    "    all_elements = list(set(all_elements))  # e.g. [\"H\", \"O\"]\n",
    "    # Set up the matrix A using the given reaction:\n",
    "    num_coeffs = len(compounds)  # how many columns in A, i.e. how many values we need to find\n",
    "    num_elements = len(all_elements)  # how many rows in A, i.e. how many equations we can write\n",
    "    A = np.zeros((num_elements,num_coeffs))\n",
    "    compound_counts = [get_element_counts(c) for c in compounds]\n",
    "    for Arow, element in enumerate(all_elements):\n",
    "        for Acol, compound in enumerate(compound_counts):\n",
    "            if element in compound:\n",
    "                Asign = 1 if Acol < len(reactants) else -1\n",
    "                A[Arow][Acol] = Asign * compound[element]\n",
    "    # Make A square (i.e. solvable) by eliminating redundant equations and/or assigning\n",
    "    # a value of 1 to a single free variable:\n",
    "    _,_,u = lu(A)\n",
    "    A = u[~np.all(u==0,axis=1)]  # get linearly independent equations only\n",
    "    if len(A) < num_coeffs-1 or len(A) > num_coeffs:\n",
    "        # we generated conflicting equations or not enough equations\n",
    "        raise ValueError(\"Unable to balance the given reaction.\")\n",
    "    b = np.zeros((len(A),1))\n",
    "    if len(A) < num_coeffs:\n",
    "        A = np.concatenate([A,np.zeros((1,num_coeffs))])\n",
    "        A[-1,-1] = 1  # TODO: make sure the last column (i.e. coefficient) is always the free variable after LU\n",
    "        b = np.append(b,[1])\n",
    "    # Solve Ax=b, and return the (scaled) answer:\n",
    "    coeffs = solve(a=A, b=b)\n",
    "    coeffs = scale_coefficients(coeffs)\n",
    "    return coeffs\n",
    "    # TODO: split up this function more"
   ]
  },
  {
   "cell_type": "code",
   "execution_count": 7,
   "metadata": {},
   "outputs": [],
   "source": [
    "def balance_rxn(reaction_str):\n",
    "    \"\"\"Given a reaction_str like:\n",
    "         \"H2 + O2 -> H2O\"\n",
    "       Print the balanced reaction, e.g.:\n",
    "         \"2 H2 + 1 O2 -> 2 H2O\"\n",
    "    \"\"\"\n",
    "    coeffs = find_coefficients(reaction_str)\n",
    "    reactants, products = get_react_prod_from_rxn(reaction_str)\n",
    "    solved_reactants = [\"%d %s\" % (coeffs[ri],                r) for ri,r in enumerate(reactants)]\n",
    "    solved_products  = [\"%d %s\" % (coeffs[pi+len(reactants)], p) for pi,p in enumerate(products)]\n",
    "    print(\" + \".join(solved_reactants) + \" -> \" + \" + \".join(solved_products))"
   ]
  },
  {
   "cell_type": "markdown",
   "metadata": {},
   "source": [
    "# Test it"
   ]
  },
  {
   "cell_type": "code",
   "execution_count": 8,
   "metadata": {},
   "outputs": [
    {
     "name": "stdout",
     "output_type": "stream",
     "text": [
      "2 H2 + 1 O2 -> 2 H2O\n"
     ]
    }
   ],
   "source": [
    "balance_rxn(\"H2 + O2 -> H2O\")"
   ]
  },
  {
   "cell_type": "code",
   "execution_count": 9,
   "metadata": {},
   "outputs": [
    {
     "name": "stdout",
     "output_type": "stream",
     "text": [
      "2 C4H10 + 13 O2 -> 8 CO2 + 10 H2O\n"
     ]
    }
   ],
   "source": [
    "balance_rxn(\"C4H10 + O2 -> CO2 + H2O\")"
   ]
  },
  {
   "cell_type": "code",
   "execution_count": 10,
   "metadata": {},
   "outputs": [
    {
     "name": "stdout",
     "output_type": "stream",
     "text": [
      "3 Cu + 8 HNO3 -> 3 Cu(NO3)2 + 2 NO + 4 H2O\n"
     ]
    }
   ],
   "source": [
    "balance_rxn(\"Cu + HNO3 -> Cu(NO3)2 + NO + H2O\")"
   ]
  },
  {
   "cell_type": "code",
   "execution_count": 11,
   "metadata": {},
   "outputs": [
    {
     "name": "stdout",
     "output_type": "stream",
     "text": [
      "1 H2O -> 1 H2O\n"
     ]
    }
   ],
   "source": [
    "balance_rxn(\"H2O -> H2O\")"
   ]
  },
  {
   "cell_type": "markdown",
   "metadata": {},
   "source": [
    "# TODO"
   ]
  },
  {
   "cell_type": "markdown",
   "metadata": {},
   "source": [
    "* make this a package, including tests, README, etc.?\n",
    "* OOP example?"
   ]
  },
  {
   "cell_type": "code",
   "execution_count": null,
   "metadata": {},
   "outputs": [],
   "source": []
  }
 ],
 "metadata": {
  "kernelspec": {
   "display_name": "Python 3",
   "language": "python",
   "name": "python3"
  },
  "language_info": {
   "codemirror_mode": {
    "name": "ipython",
    "version": 3
   },
   "file_extension": ".py",
   "mimetype": "text/x-python",
   "name": "python",
   "nbconvert_exporter": "python",
   "pygments_lexer": "ipython3",
   "version": "3.5.2"
  }
 },
 "nbformat": 4,
 "nbformat_minor": 2
}
