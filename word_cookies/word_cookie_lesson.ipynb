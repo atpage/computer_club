{
 "cells": [
  {
   "cell_type": "markdown",
   "metadata": {},
   "source": [
    "# Word Cookie Solver"
   ]
  },
  {
   "cell_type": "markdown",
   "metadata": {},
   "source": [
    "This program will find all of the words that can be made from a specified set of letters."
   ]
  },
  {
   "cell_type": "markdown",
   "metadata": {},
   "source": [
    "## Setup"
   ]
  },
  {
   "cell_type": "markdown",
   "metadata": {},
   "source": [
    "First, let's write some code to check if a *single* word can be made from the letters:"
   ]
  },
  {
   "cell_type": "code",
   "execution_count": 1,
   "metadata": {
    "collapsed": true
   },
   "outputs": [],
   "source": [
    "def word_works(letters, word, allow_repeats=False):\n",
    "    \"\"\"Return True if word can be spelled using only letters.  letters is a single\n",
    "    string.  allow_repeats allows each letter to be used many times.\n",
    "    \"\"\"\n",
    "    letters_remaining = letters.lower()  # because dictionary words will be lowercase\n",
    "    for letter in word:\n",
    "        if letter in letters_remaining:\n",
    "            if not allow_repeats:\n",
    "                letters_remaining = letters_remaining.replace(letter, '', 1)\n",
    "        else:\n",
    "            return False\n",
    "    return True"
   ]
  },
  {
   "cell_type": "markdown",
   "metadata": {},
   "source": [
    "Then we need a way to check lots of words.  We'll need a dictionary:"
   ]
  },
  {
   "cell_type": "code",
   "execution_count": 2,
   "metadata": {
    "collapsed": true
   },
   "outputs": [],
   "source": [
    "def load_dict(dict_filename):\n",
    "    \"\"\"Load a dictionary file into a list of (lowercase) words.\"\"\"\n",
    "    with open(dict_filename) as f:\n",
    "        content = f.readlines()\n",
    "    content = [x.strip().lower() for x in content]\n",
    "    return content"
   ]
  },
  {
   "cell_type": "markdown",
   "metadata": {},
   "source": [
    "And a way to check all the words in the dictionary:"
   ]
  },
  {
   "cell_type": "code",
   "execution_count": 3,
   "metadata": {
    "collapsed": true
   },
   "outputs": [],
   "source": [
    "def match_words(letters, dictionary, allow_repeats=False):\n",
    "    \"\"\"Return all words in dictionary that can be spelled using only letters.\n",
    "    dictionary should be a python list from load_dict().\n",
    "    \"\"\"\n",
    "    results = []\n",
    "    for word in dictionary:\n",
    "        if word_works(letters, word, allow_repeats):\n",
    "            results.append(word)\n",
    "    return results"
   ]
  },
  {
   "cell_type": "markdown",
   "metadata": {},
   "source": [
    "## Run it"
   ]
  },
  {
   "cell_type": "markdown",
   "metadata": {},
   "source": [
    "Load the dictionary:"
   ]
  },
  {
   "cell_type": "code",
   "execution_count": 4,
   "metadata": {
    "collapsed": true
   },
   "outputs": [],
   "source": [
    "dictionary = load_dict('dictionary.txt')"
   ]
  },
  {
   "cell_type": "markdown",
   "metadata": {},
   "source": [
    "Specify the letters we can use:"
   ]
  },
  {
   "cell_type": "code",
   "execution_count": 5,
   "metadata": {
    "collapsed": true
   },
   "outputs": [],
   "source": [
    "letters = 'wdro'"
   ]
  },
  {
   "cell_type": "markdown",
   "metadata": {},
   "source": [
    "Find the matches and print them:"
   ]
  },
  {
   "cell_type": "code",
   "execution_count": 6,
   "metadata": {},
   "outputs": [
    {
     "name": "stdout",
     "output_type": "stream",
     "text": [
      "['do', 'dor', 'dow', 'drow', 'od', 'or', 'ord', 'ow', 'rod', 'row', 'wo', 'word']\n"
     ]
    }
   ],
   "source": [
    "matching_words = match_words(letters, dictionary)\n",
    "print(matching_words)"
   ]
  },
  {
   "cell_type": "markdown",
   "metadata": {},
   "source": [
    "We can also sort them with the longest words first:"
   ]
  },
  {
   "cell_type": "code",
   "execution_count": 7,
   "metadata": {},
   "outputs": [
    {
     "name": "stdout",
     "output_type": "stream",
     "text": [
      "['drow', 'word', 'dor', 'dow', 'ord', 'rod', 'row', 'do', 'od', 'or', 'ow', 'wo']\n"
     ]
    }
   ],
   "source": [
    "print( sorted(matching_words, key=len, reverse=True) )"
   ]
  }
 ],
 "metadata": {
  "kernelspec": {
   "display_name": "Python 3",
   "language": "python",
   "name": "python3"
  },
  "language_info": {
   "codemirror_mode": {
    "name": "ipython",
    "version": 3
   },
   "file_extension": ".py",
   "mimetype": "text/x-python",
   "name": "python",
   "nbconvert_exporter": "python",
   "pygments_lexer": "ipython3",
   "version": "3.5.2"
  }
 },
 "nbformat": 4,
 "nbformat_minor": 2
}
